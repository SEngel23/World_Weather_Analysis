{
 "cells": [
  {
   "cell_type": "code",
   "execution_count": 1,
   "id": "3f837dea",
   "metadata": {},
   "outputs": [],
   "source": [
    "import random"
   ]
  },
  {
   "cell_type": "code",
   "execution_count": 2,
   "id": "26cf1be7",
   "metadata": {},
   "outputs": [
    {
     "data": {
      "text/plain": [
       "74"
      ]
     },
     "execution_count": 2,
     "metadata": {},
     "output_type": "execute_result"
    }
   ],
   "source": [
    "random.randint(-90, 90)"
   ]
  },
  {
   "cell_type": "code",
   "execution_count": 3,
   "id": "59055295",
   "metadata": {},
   "outputs": [
    {
     "data": {
      "text/plain": [
       "0.9498224784877538"
      ]
     },
     "execution_count": 3,
     "metadata": {},
     "output_type": "execute_result"
    }
   ],
   "source": [
    "random.random()"
   ]
  },
  {
   "cell_type": "code",
   "execution_count": 4,
   "id": "efe927f6",
   "metadata": {},
   "outputs": [
    {
     "data": {
      "text/plain": [
       "-38.163987144239506"
      ]
     },
     "execution_count": 4,
     "metadata": {},
     "output_type": "execute_result"
    }
   ],
   "source": [
    "random_number = random.randint(-90, 89) + random.random()\n",
    "random_number"
   ]
  },
  {
   "cell_type": "code",
   "execution_count": 6,
   "id": "d701e8d4",
   "metadata": {},
   "outputs": [
    {
     "data": {
      "text/plain": [
       "[88.23207484899794,\n",
       " 85.93291252949699,\n",
       " 77.55156548829017,\n",
       " -35.09159136425744,\n",
       " 53.91550703612436,\n",
       " 89.97075503214305,\n",
       " -16.959970306485307,\n",
       " -83.07766416030125,\n",
       " 56.445542723130295,\n",
       " 62.76451074341773]"
      ]
     },
     "execution_count": 6,
     "metadata": {},
     "output_type": "execute_result"
    }
   ],
   "source": [
    "# to generate 10 random flating-point decimal latitudes\n",
    "\n",
    "x = 1\n",
    "\n",
    "latitudes = []\n",
    "\n",
    "while x < 11:\n",
    "    random_lat = random.randint(-90, 89) + random.random()\n",
    "    \n",
    "    latitudes.append(random_lat)\n",
    "    \n",
    "    x +=1\n",
    "\n",
    "latitudes"
   ]
  },
  {
   "cell_type": "code",
   "execution_count": 7,
   "id": "a16ab7b6",
   "metadata": {},
   "outputs": [
    {
     "data": {
      "text/plain": [
       "29"
      ]
     },
     "execution_count": 7,
     "metadata": {},
     "output_type": "execute_result"
    }
   ],
   "source": [
    "random.randrange(-90, 90, step=1)"
   ]
  },
  {
   "cell_type": "code",
   "execution_count": 8,
   "id": "1bd02015",
   "metadata": {},
   "outputs": [
    {
     "data": {
      "text/plain": [
       "81"
      ]
     },
     "execution_count": 8,
     "metadata": {},
     "output_type": "execute_result"
    }
   ],
   "source": [
    "random.randrange(-90, 90, step=3)\n",
    "\n",
    "# If you don't add the step parameter, the output will be a number with an increment of 1, which is the default integer value."
   ]
  },
  {
   "cell_type": "code",
   "execution_count": 9,
   "id": "3e89e28c",
   "metadata": {},
   "outputs": [
    {
     "data": {
      "text/plain": [
       "-10.492445304003937"
      ]
     },
     "execution_count": 9,
     "metadata": {},
     "output_type": "execute_result"
    }
   ],
   "source": [
    "random.uniform(-90, 90)"
   ]
  },
  {
   "cell_type": "code",
   "execution_count": 10,
   "id": "e7a021f8",
   "metadata": {},
   "outputs": [],
   "source": [
    "# import the NumPy module\n",
    "\n",
    "import numpy as np\n",
    "\n",
    "# The NumPy module has a built-in random module, and supplements the built-in Python random module. \n",
    "# There is no need to import the random module if we import the NumPy module, as it's redundant."
   ]
  },
  {
   "cell_type": "code",
   "execution_count": 11,
   "id": "a2967631",
   "metadata": {},
   "outputs": [
    {
     "data": {
      "text/plain": [
       "36.132270096431085"
      ]
     },
     "execution_count": 11,
     "metadata": {},
     "output_type": "execute_result"
    }
   ],
   "source": [
    "np.random.uniform(-90.000, 90.000)\n",
    "\n",
    "# Another option is to write the parameters as np.random.uniform(low=-90, high=90)"
   ]
  },
  {
   "cell_type": "code",
   "execution_count": 12,
   "id": "6d8cd045",
   "metadata": {},
   "outputs": [
    {
     "data": {
      "text/plain": [
       "array([ 85.10772089,  -2.8726753 , -21.59747962, -12.8992901 ,\n",
       "       -13.62477089,  81.23190791, -13.32951245, -53.25929174,\n",
       "       -29.41748733,  85.53473201,   2.15327157, -86.91251007,\n",
       "       -57.7819374 , -29.74268442,  38.56809451,  -4.92820049,\n",
       "        43.42014684,  40.30253988,  15.1925843 ,  40.36583241,\n",
       "       -75.31404382,  -3.34165459,  76.37345848,  28.09101059,\n",
       "         6.33859074, -45.68289376,  -0.69825447, -46.07904706,\n",
       "       -67.24656091, -81.14495638,  22.1402975 , -31.80175166,\n",
       "        55.75804804, -61.21037899, -39.52360568, -45.18120107,\n",
       "       -72.09638459,  60.40581662,  23.85156894, -14.16935307,\n",
       "        60.80161989, -20.40791894,  -5.73489369,  66.17284111,\n",
       "       -12.37885657,   0.55692688, -45.73013266, -78.24399894,\n",
       "       -65.25675884, -20.718718  ])"
      ]
     },
     "execution_count": 12,
     "metadata": {},
     "output_type": "execute_result"
    }
   ],
   "source": [
    "np.random.uniform(-90.000, 90.000, size=50)\n",
    "\n",
    "# To generate more than one floating-point decimal number between -90 and 90, \n",
    "# we can add the size parameter when we use the NumPy module and set that equal to any whole number."
   ]
  },
  {
   "cell_type": "code",
   "execution_count": 15,
   "id": "c06844ba",
   "metadata": {},
   "outputs": [],
   "source": [
    "# import timeit module\n",
    "\n",
    "import timeit\n",
    "\n",
    "# To test how long a piece of code or function takes to run, \n",
    "# we can import the \"timeit\" module and use the %timeit magic command when we run our code or call the function."
   ]
  },
  {
   "cell_type": "code",
   "execution_count": 18,
   "id": "b49f6184",
   "metadata": {},
   "outputs": [
    {
     "name": "stdout",
     "output_type": "stream",
     "text": [
      "16.5 µs ± 406 ns per loop (mean ± std. dev. of 7 runs, 100,000 loops each)\n"
     ]
    }
   ],
   "source": [
    "%timeit np.random.uniform(-90.000, 90.000, size=1500)"
   ]
  },
  {
   "cell_type": "code",
   "execution_count": 19,
   "id": "a25ce4dc",
   "metadata": {},
   "outputs": [
    {
     "name": "stdout",
     "output_type": "stream",
     "text": [
      "2.26 ms ± 133 µs per loop (mean ± std. dev. of 7 runs, 100 loops each)\n"
     ]
    }
   ],
   "source": [
    "def latitudes(size):\n",
    "    latitudes = []\n",
    "    x = 0\n",
    "    while x < (size):\n",
    "        random_lat = random.randint(-90, 90) + random.random()\n",
    "        latitudes.append(random_lat)\n",
    "        x += 1\n",
    "    return latitudes\n",
    "# Call the function with 1500.\n",
    "%timeit latitudes(1500)\n",
    "\n",
    "# using the np.random.uniform function is 100 times faster than this code and only one line of code versus 8"
   ]
  },
  {
   "cell_type": "code",
   "execution_count": null,
   "id": "21b213ab",
   "metadata": {},
   "outputs": [],
   "source": []
  }
 ],
 "metadata": {
  "kernelspec": {
   "display_name": "PythonData",
   "language": "python",
   "name": "pythondata"
  },
  "language_info": {
   "codemirror_mode": {
    "name": "ipython",
    "version": 3
   },
   "file_extension": ".py",
   "mimetype": "text/x-python",
   "name": "python",
   "nbconvert_exporter": "python",
   "pygments_lexer": "ipython3",
   "version": "3.9.12"
  }
 },
 "nbformat": 4,
 "nbformat_minor": 5
}
